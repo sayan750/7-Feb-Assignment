{
 "cells": [
  {
   "cell_type": "markdown",
   "id": "a903d7ef",
   "metadata": {},
   "source": [
    "### Q1."
   ]
  },
  {
   "cell_type": "code",
   "execution_count": 31,
   "id": "e5d6f9e7",
   "metadata": {},
   "outputs": [],
   "source": [
    "import re\n",
    "\n",
    "def valid_pass(password):\n",
    "    \n",
    "    if len(password) != 10:\n",
    "        return \"Invalid password\"\n",
    "    if len(re.findall(r'[A-Z]' , password)) < 2 or len(re.findall(r'[a-z]' , password)) < 2:\n",
    "        return \"Invalid password\"\n",
    "    if len(re.findall(r'\\d' , password)) < 1 or len(re.findall(r'[^\\w\\s]' , password)) < 3:\n",
    "        return \"Invalid password\"\n",
    "    \n",
    "    return \"Valid Password\""
   ]
  },
  {
   "cell_type": "code",
   "execution_count": 33,
   "id": "63735098",
   "metadata": {},
   "outputs": [
    {
     "name": "stdout",
     "output_type": "stream",
     "text": [
      "Invalid password\n"
     ]
    }
   ],
   "source": [
    "password = \"MyP@ssw0rd\"\n",
    "print(valid_pass(password))"
   ]
  },
  {
   "cell_type": "markdown",
   "id": "48ae15e7",
   "metadata": {},
   "source": [
    "### Q2."
   ]
  },
  {
   "cell_type": "code",
   "execution_count": 42,
   "id": "639d90d4",
   "metadata": {},
   "outputs": [
    {
     "name": "stdout",
     "output_type": "stream",
     "text": [
      "['BOSUNDHORA']\n"
     ]
    }
   ],
   "source": [
    "## Check if the string starts with a particular letter\n",
    "\n",
    "x = [\"SAYAN\", \"SAYAK\", \"GHOSH\", \"BOSUNDHORA\"]\n",
    "Y = list(filter(lambda x: x.startswith(\"B\"), x))\n",
    "print(Y)"
   ]
  },
  {
   "cell_type": "code",
   "execution_count": 45,
   "id": "aed706e6",
   "metadata": {},
   "outputs": [
    {
     "name": "stdout",
     "output_type": "stream",
     "text": [
      "['123', '456', '789']\n"
     ]
    }
   ],
   "source": [
    "## Check if the string is numeric\n",
    "\n",
    "m = [\"123\", \"abcd\", \"456\", \"789\", \"sayanghosh\"]\n",
    "h = list(filter(lambda x: x.isdigit(), m))\n",
    "print(h)"
   ]
  },
  {
   "cell_type": "code",
   "execution_count": 46,
   "id": "041258d2",
   "metadata": {},
   "outputs": [
    {
     "name": "stdout",
     "output_type": "stream",
     "text": [
      "[('orange', 80), ('mango', 99), ('grapes', 1000)]\n"
     ]
    }
   ],
   "source": [
    "## Sort a list of tuples having fruit names and their quantity. \n",
    "\n",
    "f = [(\"mango\",99),(\"orange\",80), (\"grapes\", 1000)]\n",
    "v = sorted(f, key=lambda x: x[1])\n",
    "print(v)"
   ]
  },
  {
   "cell_type": "code",
   "execution_count": 53,
   "id": "55632f25",
   "metadata": {},
   "outputs": [
    {
     "name": "stdout",
     "output_type": "stream",
     "text": [
      "[1, 4, 9, 16, 25, 36, 49, 64, 81]\n"
     ]
    }
   ],
   "source": [
    "## Find the squares of numbers from 1 to 10\n",
    "\n",
    "c = [x**2 for x in range(1,10)]\n",
    "print(c)"
   ]
  },
  {
   "cell_type": "code",
   "execution_count": 55,
   "id": "843603f4",
   "metadata": {},
   "outputs": [
    {
     "name": "stdout",
     "output_type": "stream",
     "text": [
      "[1.0, 1.2599210498948732, 1.4422495703074083, 1.5874010519681994, 1.7099759466766968, 1.8171205928321397, 1.912931182772389, 2.0, 2.080083823051904]\n"
     ]
    }
   ],
   "source": [
    "## Find the cube root of numbers from 1 to 10\n",
    "\n",
    "v = [pow(x, 1/3) for x in range(1,10)]\n",
    "print(v)"
   ]
  },
  {
   "cell_type": "code",
   "execution_count": 62,
   "id": "0fc909b5",
   "metadata": {},
   "outputs": [
    {
     "name": "stdout",
     "output_type": "stream",
     "text": [
      "[2, 4, 6, 8, 10]\n"
     ]
    }
   ],
   "source": [
    "## Check if a given number is even\n",
    "\n",
    "k = [1,2,3,4,5,6,7,8,9,10]\n",
    "v = list(filter(lambda x: x%2==0, k))\n",
    "print(v)"
   ]
  },
  {
   "cell_type": "code",
   "execution_count": 63,
   "id": "42b24a38",
   "metadata": {},
   "outputs": [
    {
     "name": "stdout",
     "output_type": "stream",
     "text": [
      "[1, 3, 5, 7, 9]\n"
     ]
    }
   ],
   "source": [
    "## Filter odd numbers from the given list.\n",
    "\n",
    "e = [1,2,3,4,5,6,7,8,9,10]\n",
    "g = list(filter(lambda x: x%2 !=0, e))\n",
    "print(g)"
   ]
  },
  {
   "cell_type": "code",
   "execution_count": 69,
   "id": "cd859b2a",
   "metadata": {},
   "outputs": [
    {
     "name": "stdout",
     "output_type": "stream",
     "text": [
      "Positive Numbers are:  [1, 2, 3, 4, 5, 6]\n",
      "Negative Numbers are:  [-1, -2, -3, -4, -5]\n"
     ]
    }
   ],
   "source": [
    "## Sort a list of integers into positive and negative integers lists.\n",
    "\n",
    "r = [1,2,3,4,5,6,-1,-2,-3,-4,-5,0]\n",
    "\n",
    "d = list(filter(lambda x: x>0, r))\n",
    "t = list(filter(lambda x: x<0, r))\n",
    "\n",
    "print(\"Positive Numbers are: \", d)\n",
    "print(\"Negative Numbers are: \", t)"
   ]
  },
  {
   "cell_type": "code",
   "execution_count": null,
   "id": "ef56db47",
   "metadata": {},
   "outputs": [],
   "source": []
  },
  {
   "cell_type": "code",
   "execution_count": null,
   "id": "e95cd2cc",
   "metadata": {},
   "outputs": [],
   "source": []
  },
  {
   "cell_type": "code",
   "execution_count": null,
   "id": "d7d4a42b",
   "metadata": {},
   "outputs": [],
   "source": []
  },
  {
   "cell_type": "code",
   "execution_count": null,
   "id": "076e70b5",
   "metadata": {},
   "outputs": [],
   "source": []
  }
 ],
 "metadata": {
  "kernelspec": {
   "display_name": "Python 3 (ipykernel)",
   "language": "python",
   "name": "python3"
  },
  "language_info": {
   "codemirror_mode": {
    "name": "ipython",
    "version": 3
   },
   "file_extension": ".py",
   "mimetype": "text/x-python",
   "name": "python",
   "nbconvert_exporter": "python",
   "pygments_lexer": "ipython3",
   "version": "3.9.12"
  }
 },
 "nbformat": 4,
 "nbformat_minor": 5
}
